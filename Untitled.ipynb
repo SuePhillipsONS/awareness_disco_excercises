{
 "cells": [
  {
   "cell_type": "code",
   "execution_count": 1,
   "id": "b03dccb2-a91e-4c2a-a746-c1e31fdd6561",
   "metadata": {},
   "outputs": [
    {
     "name": "stdout",
     "output_type": "stream",
     "text": [
      " Volume in drive C is System\n",
      " Volume Serial Number is BA93-6B50\n",
      "\n",
      " Directory of C:\\Users\\phills1\\scripts\\awareness_disco_excercises\n",
      "\n",
      "03/12/2024  14:25    <DIR>          .\n",
      "03/12/2024  14:23    <DIR>          ..\n",
      "03/12/2024  14:12                67 .gitignore\n",
      "03/12/2024  14:25    <DIR>          .ipynb_checkpoints\n",
      "03/12/2024  14:15    <DIR>          .jupyter\n",
      "03/12/2024  14:12    <DIR>          data\n",
      "03/12/2024  14:17            19,825 exercises_beginner_microdata.ipynb\n",
      "03/12/2024  14:12                80 README.md\n",
      "03/12/2024  14:25                72 Untitled.ipynb\n",
      "               4 File(s)         20,044 bytes\n",
      "               5 Dir(s)  259,917,840,384 bytes free\n"
     ]
    }
   ],
   "source": [
    "!dir\n"
   ]
  },
  {
   "cell_type": "code",
   "execution_count": null,
   "id": "2b8216d8-68c8-423a-ac31-9df40ac3770c",
   "metadata": {},
   "outputs": [],
   "source": []
  }
 ],
 "metadata": {
  "kernelspec": {
   "display_name": "Python 3 (ipykernel)",
   "language": "python",
   "name": "python3"
  },
  "language_info": {
   "codemirror_mode": {
    "name": "ipython",
    "version": 3
   },
   "file_extension": ".py",
   "mimetype": "text/x-python",
   "name": "python",
   "nbconvert_exporter": "python",
   "pygments_lexer": "ipython3",
   "version": "3.12.5"
  }
 },
 "nbformat": 4,
 "nbformat_minor": 5
}
