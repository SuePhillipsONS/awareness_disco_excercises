{
 "cells": [
  {
   "cell_type": "code",
   "execution_count": 1,
   "id": "2a3fad26-79b7-49eb-aad8-4b6ce9d73e3f",
   "metadata": {},
   "outputs": [],
   "source": [
    "a = 2\n"
   ]
  },
  {
   "cell_type": "code",
   "execution_count": 2,
   "id": "bf6090d1-ed48-481b-a7d9-636583fa01ac",
   "metadata": {},
   "outputs": [],
   "source": [
    "b = a"
   ]
  },
  {
   "cell_type": "code",
   "execution_count": 3,
   "id": "f9f36f93-b5b7-4fec-8af5-5dda6bb258e5",
   "metadata": {},
   "outputs": [
    {
     "data": {
      "text/plain": [
       "2"
      ]
     },
     "execution_count": 3,
     "metadata": {},
     "output_type": "execute_result"
    }
   ],
   "source": [
    "b"
   ]
  },
  {
   "cell_type": "code",
   "execution_count": 4,
   "id": "3c3b2d33-b90d-4763-8484-6c822fba46d7",
   "metadata": {},
   "outputs": [],
   "source": [
    "a = 3"
   ]
  },
  {
   "cell_type": "code",
   "execution_count": 5,
   "id": "754d1cab-03e9-4dc4-a93f-2b92c4fdad83",
   "metadata": {},
   "outputs": [
    {
     "data": {
      "text/plain": [
       "2"
      ]
     },
     "execution_count": 5,
     "metadata": {},
     "output_type": "execute_result"
    }
   ],
   "source": [
    "b\n"
   ]
  },
  {
   "cell_type": "code",
   "execution_count": null,
   "id": "bceb1897-b0d9-4aa3-b4f6-a4f6d577aa4a",
   "metadata": {},
   "outputs": [],
   "source": []
  }
 ],
 "metadata": {
  "kernelspec": {
   "display_name": "Python 3 (ipykernel)",
   "language": "python",
   "name": "python3"
  },
  "language_info": {
   "codemirror_mode": {
    "name": "ipython",
    "version": 3
   },
   "file_extension": ".py",
   "mimetype": "text/x-python",
   "name": "python",
   "nbconvert_exporter": "python",
   "pygments_lexer": "ipython3",
   "version": "3.12.5"
  }
 },
 "nbformat": 4,
 "nbformat_minor": 5
}
